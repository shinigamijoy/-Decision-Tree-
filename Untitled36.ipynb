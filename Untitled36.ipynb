{
  "nbformat": 4,
  "nbformat_minor": 0,
  "metadata": {
    "colab": {
      "provenance": [],
      "authorship_tag": "ABX9TyOQ4OeTmX57UiBqSZEDUWSA",
      "include_colab_link": true
    },
    "kernelspec": {
      "name": "python3",
      "display_name": "Python 3"
    },
    "language_info": {
      "name": "python"
    }
  },
  "cells": [
    {
      "cell_type": "markdown",
      "metadata": {
        "id": "view-in-github",
        "colab_type": "text"
      },
      "source": [
        "<a href=\"https://colab.research.google.com/github/shinigamijoy/-Decision-Tree-/blob/master/Untitled36.ipynb\" target=\"_parent\"><img src=\"https://colab.research.google.com/assets/colab-badge.svg\" alt=\"Open In Colab\"/></a>"
      ]
    },
    {
      "cell_type": "markdown",
      "source": [
        "### FINAL PROJECT\n"
      ],
      "metadata": {
        "id": "v-oAWBWVKU9M"
      }
    },
    {
      "cell_type": "markdown",
      "source": [
        "#python\n",
        "#R\n",
        "#sql\n",
        "#julia\n",
        "#sas\n",
        "#matlab\n",
        "#scala\n",
        "#java\n",
        "#perl\n",
        "#haskell\n",
        "#lisp\n",
        "#rupy\n",
        "#groovy"
      ],
      "metadata": {
        "id": "PSE9wWsBKtoL"
      }
    },
    {
      "cell_type": "markdown",
      "source": [
        "#Python Libraries:\n",
        "\n",
        "##NumPy\n",
        "##pandas\n",
        "##Matplotlib\n",
        "##Seaborn\n",
        "##scikit-learn\n",
        "##TensorFlow\n",
        "##Keras\n",
        "##PyTorch\n",
        "##NLTK\n",
        "##spaCy\n",
        "#R Libraries:\n",
        "\n",
        "##dplyr\n",
        "##ggplot2\n",
        "##tidyr\n",
        "##caret\n",
        "##randomForest\n",
        "##xgboost\n",
        "##tm"
      ],
      "metadata": {
        "id": "nsI-fDKlLxxX"
      }
    },
    {
      "cell_type": "markdown",
      "source": [
        "##Jupyter Notebook\n",
        "##RStudio\n",
        "##Spyder\n",
        "##Anaconda\n",
        "##Tableau\n",
        "##Power BI\n",
        "##KNIME\n",
        "##RapidMiner\n",
        "##IBM Watson Studio\n",
        "##D3.js\n",
        "##Apache Spark\n",
        "##Hadoop\n",
        "##SAS\n",
        "##Excel\n",
        "##Weka\n",
        "##Alteryx\n",
        "##DataRobot\n",
        "##Azure Machine Learning\n",
        "##Google Cloud AI Platform\n",
        "##H2O.ai"
      ],
      "metadata": {
        "id": "KdZldDVmL0Tv"
      }
    },
    {
      "cell_type": "markdown",
      "source": [
        "## introduction the final project"
      ],
      "metadata": {
        "id": "WWAUUKyvKm4M"
      }
    },
    {
      "cell_type": "markdown",
      "source": [
        "#Addition:\n",
        "\n",
        "5 + 3\n",
        "x + 10\n",
        "2.5 + 1.75\n",
        "#Subtraction:\n",
        "\n",
        "10 - 4\n",
        "y - 7\n",
        "3.14 - 1.5\n",
        "#Multiplication:\n",
        "\n",
        "6 * 9\n",
        "a * b\n",
        "2.5 * 0.5\n",
        "#Division:\n",
        "\n",
        "15 / 3\n",
        "m / 5\n",
        "8.0 / 2.0\n",
        "#Mixed Expressions:\n",
        "\n",
        "2 * (3 + 4)\n",
        "(x + 5) / 2\n",
        "7 - (2 * y)\n",
        "#Parentheses for Priority:\n",
        "\n",
        "3 * (8 + 2)\n",
        "(15 - 5) / (2 + 1)\n",
        "(a + b) * (c - d)\n",
        "#Exponents:\n",
        "\n",
        "2^3 (2 raised to the power of 3)\n",
        "x^2 (x squared)\n",
        "4^(1/2) (square root of 4)\n",
        "Order of Operations (PEMDAS/BODMAS):\n",
        "Arithmetic expressions follow a specific order of operations to resolve multiple operations within a single expression:\n",
        "\n",
        "Parentheses/Brackets\n",
        "Exponents/Orders\n",
        "Multiplication and Division (left to right)\n",
        "Addition and Subtraction (left to right)"
      ],
      "metadata": {
        "id": "k3k8P3orMSDV"
      }
    },
    {
      "cell_type": "code",
      "source": [
        "# Input: Total minutes\n",
        "total_minutes = int(input(\"Enter total minutes: \"))\n",
        "\n",
        "# Calculate hours and remaining minutes\n",
        "hours = total_minutes // 60\n",
        "remaining_minutes = total_minutes % 60\n",
        "\n",
        "# Display the result\n",
        "print(f\"{total_minutes} minutes is equal to {hours} hours and {remaining_minutes} minutes.\")\n"
      ],
      "metadata": {
        "colab": {
          "base_uri": "https://localhost:8080/"
        },
        "id": "iq5u4YQ9NMsN",
        "outputId": "a97fbfab-b81e-44e9-c15c-fe69a3f6f337"
      },
      "execution_count": 3,
      "outputs": [
        {
          "output_type": "stream",
          "name": "stdout",
          "text": [
            "Enter total minutes: 120\n",
            "120 minutes is equal to 2 hours and 0 minutes.\n"
          ]
        }
      ]
    },
    {
      "cell_type": "code",
      "source": [
        "sum1 = 8 + 6\n",
        "print(sum1)\n",
        "result1 = 5 * 3\n",
        "print(result1)"
      ],
      "metadata": {
        "colab": {
          "base_uri": "https://localhost:8080/"
        },
        "id": "ZAmSTS7mM8fW",
        "outputId": "1eea9eca-e0ba-48ae-d15d-a9db3bd7ea92"
      },
      "execution_count": 2,
      "outputs": [
        {
          "output_type": "stream",
          "name": "stdout",
          "text": [
            "14\n",
            "15\n"
          ]
        }
      ]
    },
    {
      "cell_type": "markdown",
      "source": [
        "# Ahmed elbeshry"
      ],
      "metadata": {
        "id": "jei2ysMmS1dD"
      }
    },
    {
      "cell_type": "code",
      "source": [],
      "metadata": {
        "id": "MD16KD2xNNS9"
      },
      "execution_count": null,
      "outputs": []
    }
  ]
}